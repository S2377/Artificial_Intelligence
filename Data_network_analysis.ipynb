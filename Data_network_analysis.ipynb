{
  "nbformat": 4,
  "nbformat_minor": 0,
  "metadata": {
    "colab": {
      "provenance": [],
      "mount_file_id": "1CDxukz-2VUToScurnkwFjLmCPkshO-2t",
      "authorship_tag": "ABX9TyNyczrHes3uW6LBDsbQtmAw",
      "include_colab_link": true
    },
    "kernelspec": {
      "name": "python3",
      "display_name": "Python 3"
    },
    "language_info": {
      "name": "python"
    }
  },
  "cells": [
    {
      "cell_type": "markdown",
      "metadata": {
        "id": "view-in-github",
        "colab_type": "text"
      },
      "source": [
        "<a href=\"https://colab.research.google.com/github/S2377/Artificial_Intelligence/blob/main/Data_network_analysis.ipynb\" target=\"_parent\"><img src=\"https://colab.research.google.com/assets/colab-badge.svg\" alt=\"Open In Colab\"/></a>"
      ]
    },
    {
      "cell_type": "markdown",
      "source": [
        " DATA NETWORK ANALYSIS IN AI"
      ],
      "metadata": {
        "id": "-C2G1nO1XLlC"
      }
    },
    {
      "cell_type": "code",
      "execution_count": null,
      "metadata": {
        "id": "JgChnkEkU1kx"
      },
      "outputs": [],
      "source": [
        "# in-built packages of python\n",
        "import pandas as pd"
      ]
    },
    {
      "cell_type": "code",
      "source": [
        "# pandas reading the csv file\n",
        "path = \"/content/drive/MyDrive/data_set/email.csv\"\n",
        "file = pd.read_csv(path)\n",
        "#file.head(5)"
      ],
      "metadata": {
        "id": "DzvvXZjNVEkX"
      },
      "execution_count": null,
      "outputs": []
    },
    {
      "cell_type": "code",
      "source": [
        "# selecting the 0th and 1th column explicitely ..\n",
        "file2 = pd.read_csv(path,usecols=[0])\n",
        "file3 = pd.read_csv(path,usecols=[1])\n"
      ],
      "metadata": {
        "id": "3D-ni9dSYgp-"
      },
      "execution_count": null,
      "outputs": []
    },
    {
      "cell_type": "code",
      "source": [
        "# Convert the content of the DataFrame into a list\n",
        "file2_list = file2.iloc[:,0].tolist()\n",
        "file3_list = file3.iloc[:,0].tolist()\n"
      ],
      "metadata": {
        "id": "H2yLSHopZV2g"
      },
      "execution_count": null,
      "outputs": []
    },
    {
      "cell_type": "code",
      "source": [
        "# calculating the number of vertex of data set\n",
        "def find_num_vertices(lst):\n",
        "    return len(set(lst))\n",
        "\n",
        "num_vertex = find_num_vertices(file2_list)"
      ],
      "metadata": {
        "id": "uIGw07lpZhHC"
      },
      "execution_count": null,
      "outputs": []
    },
    {
      "cell_type": "code",
      "source": [
        "# calculating the number of edges of a graph of data set...\n",
        "def find_num_edges(lst):\n",
        "    return len(file2_list)\n",
        "\n",
        "find_num_edges(file2_list)"
      ],
      "metadata": {
        "colab": {
          "base_uri": "https://localhost:8080/"
        },
        "id": "KVMMvI3dZllf",
        "outputId": "6bc0d693-b50e-46ed-b349-336641c4bdc3"
      },
      "execution_count": null,
      "outputs": [
        {
          "output_type": "execute_result",
          "data": {
            "text/plain": [
              "367661"
            ]
          },
          "metadata": {},
          "execution_count": 6
        }
      ]
    },
    {
      "cell_type": "code",
      "source": [
        "# creating the list of edges\n",
        "lst_edges = []\n",
        "for i,j in zip(file2_list,file3_list):\n",
        "    lst_edges.append((i,j))\n"
      ],
      "metadata": {
        "id": "84gE_XfqZtQp"
      },
      "execution_count": null,
      "outputs": []
    },
    {
      "cell_type": "code",
      "source": [
        "# checking whether the graph is directed or undirected\n",
        "for i in range(len(lst_edges)):\n",
        "    if (lst_edges[i][1],lst_edges[i][0]) in lst_edges:\n",
        "        print(\"undirected\")\n",
        "        break\n",
        "    if i == len(lst_edges)-1:\n",
        "        print(\"directed\")\n"
      ],
      "metadata": {
        "colab": {
          "base_uri": "https://localhost:8080/"
        },
        "id": "J1BFU04DZ0Li",
        "outputId": "4d23ace6-60f0-40d0-9c71-8ce727779eae"
      },
      "execution_count": null,
      "outputs": [
        {
          "output_type": "stream",
          "name": "stdout",
          "text": [
            "undirected\n"
          ]
        }
      ]
    },
    {
      "cell_type": "code",
      "source": [
        "# Initialize an empty adjacency list\n",
        "adjacency_list = {}\n",
        "\n",
        "# Function to add an edge to the adjacency list\n",
        "def add_edge(u, v):\n",
        "    if u in adjacency_list:\n",
        "        adjacency_list[u].append(v)\n",
        "    else:\n",
        "        adjacency_list[u] = [v]\n",
        "\n",
        "    # Since it's an undirected graph, we need to add the edge in both directions\n",
        "    if v in adjacency_list:\n",
        "        adjacency_list[v].append(u)\n",
        "    else:\n",
        "        adjacency_list[v] = [u]\n",
        "\n",
        "# Add edges to the graph\n",
        "for i in lst_edges:\n",
        "  add_edge(i[0],i[1])\n",
        "\n",
        "# Print the adjacency list\n",
        "# for vertex, neighbors in adjacency_list.items():\n",
        "#     print(f\"Vertex {vertex}: {neighbors}\")\n",
        "\n",
        "\n"
      ],
      "metadata": {
        "id": "W3edvi1v-p8v"
      },
      "execution_count": null,
      "outputs": []
    },
    {
      "cell_type": "code",
      "source": [
        "\n",
        "# Define an adjacency list representation of the graph\n",
        "graph = adjacency_list\n",
        "\n",
        "# Initialize a dictionary to store the degrees of each vertex\n",
        "degrees = {}\n",
        "\n",
        "# Calculate the degree of each vertex\n",
        "for vertex in graph:\n",
        "    degrees[vertex] = len(graph[vertex])\n",
        "\n",
        "# Print the degrees of each vertex\n",
        "# for vertex, degree in degrees.items():\n",
        "#     print(f\"Vertex {vertex}: Degree {degree}\")\n",
        "\n",
        "print(degrees[3])\n",
        "\n",
        "\n",
        "\n",
        "\n",
        "\n",
        "\n"
      ],
      "metadata": {
        "colab": {
          "base_uri": "https://localhost:8080/"
        },
        "id": "8q7z_yzfXrTG",
        "outputId": "4b996c58-4346-4564-ac2b-d3bb425a3798"
      },
      "execution_count": null,
      "outputs": [
        {
          "output_type": "stream",
          "name": "stdout",
          "text": [
            "10\n"
          ]
        }
      ]
    },
    {
      "cell_type": "code",
      "source": [
        "# creating the adjacency matrix\n",
        "def adjcency_matrix(num_vertex,num_edges,lst_edges):\n",
        "  # Initialize the adjacency matrix with zeros\n",
        "    Adj = [[0] * (num_vertex + 1) for _ in range(num_vertex + 1)]\n",
        "\n",
        "    # Traverse the array of edges\n",
        "    for i in range(num_vertex):\n",
        "        x = lst_edges[i][0]\n",
        "        y = lst_edges[i][1]\n",
        "\n",
        "        # Update values to 1\n",
        "        Adj[x][y] = 1\n",
        "        Adj[y][x] = 1\n",
        "\n",
        "    return Adj\n"
      ],
      "metadata": {
        "id": "gX2gzMOUZ9Hq"
      },
      "execution_count": null,
      "outputs": []
    },
    {
      "cell_type": "code",
      "source": [
        "# Function to print the created Adjacency Matrix\n",
        "def print_adj_matrix(Adj):\n",
        "    for row in Adj[1:]:\n",
        "        print(\" \".join(str(val) for val in row[1:]))"
      ],
      "metadata": {
        "id": "cZHIJ4O-GSZB"
      },
      "execution_count": null,
      "outputs": []
    },
    {
      "cell_type": "code",
      "source": [
        " # Calculate N based on the maximum vertex value\n",
        " # Create Adjacency Matrix\n",
        "Adj = adjcency_matrix(num_vertex,len(lst_edges),lst_edges)\n",
        "\n",
        "# Print Adjacency Matrix\n",
        "# print_adj_matrix(Adj[:100])\n",
        "\n"
      ],
      "metadata": {
        "id": "l1anW0YYGc8u"
      },
      "execution_count": null,
      "outputs": []
    }
  ]
}